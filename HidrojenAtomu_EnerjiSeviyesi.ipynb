{
 "cells": [
  {
   "cell_type": "markdown",
   "id": "f279c2ea-1936-49da-ab29-b8edf1a68a4b",
   "metadata": {},
   "source": [
    "<span style=\"color:b\">HİDROJEN ATOMU\n",
    "</span>"
   ]
  },
  {
   "cell_type": "code",
   "execution_count": 2,
   "id": "7f94f52e-f41f-4daf-b48c-569e56330313",
   "metadata": {},
   "outputs": [],
   "source": [
    "import numpy as np\n",
    "import pandas as pd\n",
    "#BU HESAPTA HARTTRE BİRİM SİSTEMİNİ KULLANACAĞIZ\n",
    "#Parametreler\n",
    "r_max = 50.0       # Maksimum Bohr yarıçapı\n",
    "N = 2000            # Grid noktası sayısı\n",
    "dr = r_max / N      # Grid aralığı\n",
    "l = 0               # Açısal momentum kuantum sayısı.s Ortibali için l=0 alıyoruz\n",
    "\n",
    "# Radyal grid\n",
    "r = np.linspace(dr, r_max, N)  # r=0 noktası tekillik oluşturacağından dahil etmiyoruz\n",
    "\n"
   ]
  },
  {
   "cell_type": "markdown",
   "id": "a8bb5e9b-22af-416d-981c-bd1f73b890c3",
   "metadata": {},
   "source": [
    "###Harttre birim sisteminde \n",
    "\n",
    "$$ \\Huge \\frac{e^2}{4 \\pi \\varepsilon_0} = 1 $$ ℏ=1  ve  m=1\n",
    "\n"
   ]
  },
  {
   "cell_type": "code",
   "execution_count": 3,
   "id": "fdf01694-9e2d-456c-8963-96db649894e6",
   "metadata": {},
   "outputs": [],
   "source": [
    "#Potansiyel enerji bu hali alır\n",
    "V = -1.0 / r + l*(l+1) / (2 * r**2)\n"
   ]
  },
  {
   "cell_type": "markdown",
   "id": "ac69c0a0-31b9-4070-bb39-8fee69b906a4",
   "metadata": {},
   "source": [
    "\n",
    "### Radyal Schrödinger Denklemi – Kinetik Enerji\n",
    "\n",
    "Radyal Schrödinger denkleminin kinetik enerji kısmı:\n",
    "\n",
    "$$ K = -\\frac{1}{2} \\frac{d^2}{dr^2}$$\n",
    "\n",
    "İkinci türev, sonlu farklarla yaklaşık olarak şöyle yazılır:\n",
    "\n",
    "$$\\frac{d^2 u}{dr^2} \\approx \\frac{u_{i+1} - 2 u_i + u_{i-1}}{(dr)^2}$$\n",
    "\n",
    "u_i=Ana Nokta\n",
    "\n",
    "u_i-1,u_i+1 Komşu Noktalar\n",
    "\n",
    "\n"
   ]
  },
  {
   "cell_type": "code",
   "execution_count": 9,
   "id": "4e8d7ac6-2d56-401d-9723-46adc4a7232b",
   "metadata": {},
   "outputs": [
    {
     "name": "stdout",
     "output_type": "stream",
     "text": [
      "   n (analytic)  E_analytic (eV)  E_numeric (eV)\n",
      "0             1       -13.605700      -13.603575\n",
      "1             2        -3.401425       -3.401292\n",
      "2             3        -1.511744       -1.511718\n",
      "3             4        -0.850356       -0.849115\n",
      "4             5        -0.544228       -0.486342\n",
      "5             6        -0.377936       -0.062396\n"
     ]
    }
   ],
   "source": [
    " #Kinetik enerji matrisi (sonlu farklar yöntemi)\n",
    "diag = 1.0 / dr**2 + V #Ana diagonal u_i'den gelen terim\n",
    "off_diag = -0.5/dr**2 * np.ones(N-1)#Yan diagonal komşu noktalardan gelen terim\n",
    "\n",
    "# Hamilton matrisi\n",
    "H = np.diag(diag) + np.diag(off_diag, 1) + np.diag(off_diag, -1)\n",
    "\n",
    "# Eigen değer ve eigen vektörleri\n",
    "eigvals, eigvecs = np.linalg.eigh(H)\n",
    "\n",
    "# İlk birkaç enerji seviyesini al\n",
    "max_enerji_seviyesi = 6\n",
    "nümerik_enerji = eigvals[:max_enerji_seviyesi]\n",
    "\n",
    "# Analitik enerji seviyeleri (Hartree)\n",
    "n_list = np.arange(1, max_enerji_seviyesi+1)\n",
    "analitik_enerji = -1.0 / (2.0 * n_list**2)\n",
    "\n",
    "# Hartree'den eV'ye dönüşüm\n",
    "hartree_to_ev = 27.2114\n",
    "nümerik_enerji_ev = nümerik_enerji * hartree_to_ev\n",
    "analitik_enerji_ev = analitik_enerji * hartree_to_ev\n",
    "df = pd.DataFrame({\n",
    "    'n (analytic)': n_list,\n",
    "    'E_analytic (eV)': analitik_enerji_ev,\n",
    "    'E_numeric (eV)': nümerik_enerji_ev\n",
    "})\n",
    "print(df)\n"
   ]
  },
  {
   "cell_type": "code",
   "execution_count": null,
   "id": "dc24bb56-0d0e-4abb-b957-c36426714813",
   "metadata": {},
   "outputs": [],
   "source": []
  },
  {
   "cell_type": "code",
   "execution_count": null,
   "id": "a1261119-909f-47dc-ab25-a4f6e924e6ab",
   "metadata": {},
   "outputs": [],
   "source": []
  }
 ],
 "metadata": {
  "kernelspec": {
   "display_name": "Python 3 (ipykernel)",
   "language": "python",
   "name": "python3"
  },
  "language_info": {
   "codemirror_mode": {
    "name": "ipython",
    "version": 3
   },
   "file_extension": ".py",
   "mimetype": "text/x-python",
   "name": "python",
   "nbconvert_exporter": "python",
   "pygments_lexer": "ipython3",
   "version": "3.13.5"
  }
 },
 "nbformat": 4,
 "nbformat_minor": 5
}
